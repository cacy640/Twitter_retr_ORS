{
 "cells": [
  {
   "cell_type": "code",
   "execution_count": 2,
   "metadata": {},
   "outputs": [],
   "source": [
    "import tweepy\n",
    "import pandas as pd\n",
    "import os\n",
    "import time  # Import the time module\n",
    "from datetime import datetime\n",
    "from pytz import timezone\n"
   ]
  },
  {
   "cell_type": "code",
   "execution_count": 3,
   "metadata": {},
   "outputs": [],
   "source": [
    "# API keys and access tokens\n",
    "# currently using: ORS2\n",
    "CONSUMER_KEY = \"w0LSiIzt9cJHOzBSvrvvOkSjs\"\n",
    "CONSUMER_SECRET = \"cHvUgbTiq7eiIoBs5t5EZ2krkQoxr6TONDMKoF7esVqkKWaXbQ\"\n",
    "ACCESS_TOKEN = \"1486627019534131200-jDbV5IWPq9MRC9GUglneLCAtzdenRs\"\n",
    "ACCESS_TOKEN_SECRET = \"hCsnupGcMhqjtgONKNoVsA1aDTPXYNdQBMrohFL23yPk1\"\n",
    "BEARER_TOKEN = \"AAAAAAAAAAAAAAAAAAAAACNHYgEAAAAAsWgMNDd6Eff9Aqk0xKYXLh1jCYs%3DeFLnPRjCZo4R07KmuUq7kxcNBZvbqfd0iZPCXVchY8GJhRYd1r\"\n",
    "\n",
    "# Authenticate with Twitter v2\n",
    "auth = tweepy.OAuthHandler(CONSUMER_KEY, CONSUMER_SECRET)\n",
    "auth.set_access_token(ACCESS_TOKEN, ACCESS_TOKEN_SECRET)\n",
    "#client = tweepy.Client(BEARER_TOKEN)\n",
    "client = tweepy.Client(bearer_token=BEARER_TOKEN, consumer_key=CONSUMER_KEY, consumer_secret=CONSUMER_SECRET, \n",
    "                    access_token=ACCESS_TOKEN, access_token_secret=ACCESS_TOKEN_SECRET, wait_on_rate_limit=True)"
   ]
  },
  {
   "cell_type": "code",
   "execution_count": 4,
   "metadata": {},
   "outputs": [],
   "source": [
    "data = []\n",
    "qTopic = '''(\"activity area\" OR \"community garden\" OR \"cycling path\" OR \"heritage road\" OR \"outdoor public space\" OR \"outdoor track\" OR \"park connector\" OR \"park\" OR \"nature reserve\" OR \"promenade\"  OR \"residential carparks\" OR \"residential garden\" OR \"open space\" OR \"school sports facilities\" OR \"skyrise greenery\" OR \"sports facilities\" OR \"water activity area\" OR \"waterbody\" OR \"waterway\") lang:en -is:retweet -is:reply -is:quote -(Park Jimin) -(Park Boyoung) -(Park sohyun) \n",
    "'''\n",
    "next_token = None\n",
    "paginator = tweepy.Paginator(\n",
    "    client.search_recent_tweets,\n",
    "            query=qTopic,\n",
    "            start_time = \"2023-10-24T23:00:01Z\",\n",
    "            end_time = \"2023-10-24T23:59:59Z\",\n",
    "            max_results=100,  # You can adjust this, but Twitter has a rate limit\n",
    "            expansions=[\"author_id\", \"geo.place_id\"],\n",
    "            tweet_fields=[\"id\", \"text\", \"created_at\", \"lang\", \"context_annotations\", \"entities\"],\n",
    "            place_fields=[\"name\"]\n",
    "        )\n",
    "\n",
    "for tweet in paginator.flatten(limit=4000):\n",
    "    data.append(tweet)\n",
    "\n",
    "#try:\n",
    "#    for tweet in paginator.flatten():\n",
    "#        data.append(tweet)\n",
    "#except tweepy.RateLimitError as exc:\n",
    "#    print('Rate Exceeded')"
   ]
  },
  {
   "cell_type": "code",
   "execution_count": 5,
   "metadata": {},
   "outputs": [],
   "source": [
    "df = pd.DataFrame(data)\n",
    "\n",
    "## IMPORTANT\n",
    "## Change file name and path\n",
    "dir_name = \"C:/Users/Wang Jia Xuan/OneDrive - Singapore University of Technology and Design/ORS/05 Big data/00_data\"\n",
    "file_name = datetime.now().strftime('Tweets_hourly_24_OCT23.csv')\n",
    "\n",
    "df.to_csv(os.path.join(dir_name, file_name), encoding = \"utf-8\")"
   ]
  }
 ],
 "metadata": {
  "kernelspec": {
   "display_name": "Python 3 (ipykernel)",
   "language": "python",
   "name": "python3"
  },
  "language_info": {
   "codemirror_mode": {
    "name": "ipython",
    "version": 3
   },
   "file_extension": ".py",
   "mimetype": "text/x-python",
   "name": "python",
   "nbconvert_exporter": "python",
   "pygments_lexer": "ipython3",
   "version": "3.9.2"
  },
  "varInspector": {
   "cols": {
    "lenName": 16,
    "lenType": 16,
    "lenVar": 40
   },
   "kernels_config": {
    "python": {
     "delete_cmd_postfix": "",
     "delete_cmd_prefix": "del ",
     "library": "var_list.py",
     "varRefreshCmd": "print(var_dic_list())"
    },
    "r": {
     "delete_cmd_postfix": ") ",
     "delete_cmd_prefix": "rm(",
     "library": "var_list.r",
     "varRefreshCmd": "cat(var_dic_list()) "
    }
   },
   "types_to_exclude": [
    "module",
    "function",
    "builtin_function_or_method",
    "instance",
    "_Feature"
   ],
   "window_display": false
  }
 },
 "nbformat": 4,
 "nbformat_minor": 2
}
